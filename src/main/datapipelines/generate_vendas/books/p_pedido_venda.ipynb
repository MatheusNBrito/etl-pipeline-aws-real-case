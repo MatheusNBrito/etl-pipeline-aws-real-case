{
 "cells": [
  {
   "cell_type": "code",
   "execution_count": 2,
   "id": "46793228",
   "metadata": {},
   "outputs": [],
   "source": [
    "from pyspark.sql import SparkSession\n",
    "from pyspark.sql.functions import col, lit, when, isnull, lit, length, explode, count, upper, lower, regexp_replace, regexp_extract"
   ]
  },
  {
   "cell_type": "code",
   "execution_count": 3,
   "id": "cb2e0c44",
   "metadata": {},
   "outputs": [
    {
     "name": "stderr",
     "output_type": "stream",
     "text": [
      "Setting default log level to \"WARN\".\n",
      "To adjust logging level use sc.setLogLevel(newLevel). For SparkR, use setLogLevel(newLevel).\n",
      "25/04/14 14:44:15 WARN NativeCodeLoader: Unable to load native-hadoop library for your platform... using builtin-java classes where applicable\n",
      "25/04/14 14:44:16 WARN Utils: Service 'SparkUI' could not bind on port 4040. Attempting port 4041.\n",
      "25/04/14 14:44:16 WARN Utils: Service 'SparkUI' could not bind on port 4041. Attempting port 4042.\n"
     ]
    }
   ],
   "source": [
    "from pyspark.sql import SparkSession\n",
    "# enableVectorizedReader is set to false to avoid issues with certain Parquet files\n",
    "spark = SparkSession.builder \\\n",
    "    .appName(\"Data quality check vendas\") \\\n",
    "    .config(\"spark.sql.parquet.enableVectorizedReader\", \"false\") \\\n",
    "    .config(\"spark.hadoop.io.nativeio\", \"false\") \\\n",
    "    .getOrCreate()"
   ]
  },
  {
   "cell_type": "code",
   "execution_count": 4,
   "id": "fa1826e0",
   "metadata": {},
   "outputs": [
    {
     "name": "stderr",
     "output_type": "stream",
     "text": [
      "                                                                                \r"
     ]
    }
   ],
   "source": [
    "df = spark.read.parquet(\"/app/data/processed/pedido_venda.parquet\")"
   ]
  },
  {
   "cell_type": "code",
   "execution_count": 5,
   "id": "9224d94a",
   "metadata": {},
   "outputs": [
    {
     "name": "stdout",
     "output_type": "stream",
     "text": [
      "root\n",
      " |-- data_emissao: timestamp (nullable = true)\n",
      " |-- codigo_filial: long (nullable = true)\n",
      " |-- codigo_cupom_venda: long (nullable = true)\n",
      " |-- codigo_cliente: string (nullable = true)\n",
      "\n"
     ]
    }
   ],
   "source": [
    "df.printSchema()"
   ]
  },
  {
   "cell_type": "code",
   "execution_count": 6,
   "id": "757d7b8e",
   "metadata": {},
   "outputs": [
    {
     "name": "stderr",
     "output_type": "stream",
     "text": [
      "                                                                                \r"
     ]
    },
    {
     "name": "stdout",
     "output_type": "stream",
     "text": [
      "+-------------------+-------------+------------------+--------------------+\n",
      "|       data_emissao|codigo_filial|codigo_cupom_venda|      codigo_cliente|\n",
      "+-------------------+-------------+------------------+--------------------+\n",
      "|2023-10-13 00:00:00|      2356284|       34366442231|016E6FCC4F98832719BC|\n",
      "|2023-10-13 00:00:00|      2221184|       35550863931|035D148EADC74B6C6D2F|\n",
      "|2023-10-28 00:00:00|      2188984|       37392732531|030C1011214A3317E850|\n",
      "|2023-10-09 00:00:00|      2608284|        3672652731|04710AFAF1FD9C48EBC3|\n",
      "|2023-10-10 00:00:00|       238084|       37059405031|028DBA5BBB05DDF47E4C|\n",
      "+-------------------+-------------+------------------+--------------------+\n",
      "only showing top 5 rows\n",
      "\n"
     ]
    }
   ],
   "source": [
    "df.show(5)"
   ]
  },
  {
   "cell_type": "code",
   "execution_count": 7,
   "id": "48bfe6a8",
   "metadata": {},
   "outputs": [
    {
     "name": "stderr",
     "output_type": "stream",
     "text": [
      "[Stage 4:=====================================================>   (14 + 1) / 15]\r"
     ]
    },
    {
     "name": "stdout",
     "output_type": "stream",
     "text": [
      "+------------+-------------+------------------+--------------+\n",
      "|data_emissao|codigo_filial|codigo_cupom_venda|codigo_cliente|\n",
      "+------------+-------------+------------------+--------------+\n",
      "|           0|            0|                 0|             0|\n",
      "+------------+-------------+------------------+--------------+\n",
      "\n"
     ]
    },
    {
     "name": "stderr",
     "output_type": "stream",
     "text": [
      "                                                                                \r"
     ]
    }
   ],
   "source": [
    "df.select([\n",
    "    count(when(isnull(c), c)).alias(c) for c in df.columns\n",
    "]).show()"
   ]
  },
  {
   "cell_type": "code",
   "execution_count": 8,
   "id": "80eae272",
   "metadata": {},
   "outputs": [],
   "source": [
    "spark.stop()\n"
   ]
  }
 ],
 "metadata": {
  "kernelspec": {
   "display_name": "Python (etl-pipeline-aws)",
   "language": "python",
   "name": "etl-pipeline-aws"
  }
 },
 "nbformat": 4,
 "nbformat_minor": 5
}
