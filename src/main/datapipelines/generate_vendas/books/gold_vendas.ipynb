{
 "cells": [
  {
   "cell_type": "code",
   "execution_count": 17,
   "id": "46793228",
   "metadata": {},
   "outputs": [],
   "source": [
    "from pyspark.sql import SparkSession\n",
    "from pyspark.sql.functions import col, lit, when, isnull, lit, length, explode, count, upper, lower, regexp_replace, regexp_extract"
   ]
  },
  {
   "cell_type": "code",
   "execution_count": 18,
   "id": "cb2e0c44",
   "metadata": {},
   "outputs": [],
   "source": [
    "from pyspark.sql import SparkSession\n",
    "# enableVectorizedReader is set to false to avoid issues with certain Parquet files\n",
    "spark = SparkSession.builder \\\n",
    "    .appName(\"Data quality check vendas\") \\\n",
    "    .config(\"spark.sql.parquet.enableVectorizedReader\", \"false\") \\\n",
    "    .config(\"spark.hadoop.io.nativeio\", \"false\") \\\n",
    "    .getOrCreate()"
   ]
  },
  {
   "cell_type": "code",
   "execution_count": 19,
   "id": "fa1826e0",
   "metadata": {},
   "outputs": [],
   "source": [
    "df = spark.read.parquet(\"/app/data/gold/vendas.parquet\")"
   ]
  },
  {
   "cell_type": "code",
   "execution_count": 20,
   "id": "9224d94a",
   "metadata": {},
   "outputs": [
    {
     "name": "stdout",
     "output_type": "stream",
     "text": [
      "root\n",
      " |-- codigo_filial: long (nullable = true)\n",
      " |-- codigo_cupom_venda: long (nullable = true)\n",
      " |-- data_emissao: timestamp (nullable = true)\n",
      " |-- codigo_item: long (nullable = true)\n",
      " |-- valor_unitario: decimal(38,2) (nullable = true)\n",
      " |-- quantidade: decimal(38,4) (nullable = true)\n",
      " |-- codigo_cliente: string (nullable = true)\n",
      " |-- tipo_desconto: string (nullable = true)\n",
      " |-- canal_venda: string (nullable = true)\n",
      "\n"
     ]
    }
   ],
   "source": [
    "df.printSchema()"
   ]
  },
  {
   "cell_type": "code",
   "execution_count": 21,
   "id": "757d7b8e",
   "metadata": {},
   "outputs": [
    {
     "name": "stderr",
     "output_type": "stream",
     "text": [
      "[Stage 19:=====================================================>  (18 + 1) / 19]\r"
     ]
    },
    {
     "name": "stdout",
     "output_type": "stream",
     "text": [
      "+-------------+------------------+-------------------+-----------+--------------+----------+--------------------+-------------+-----------+\n",
      "|codigo_filial|codigo_cupom_venda|       data_emissao|codigo_item|valor_unitario|quantidade|      codigo_cliente|tipo_desconto|canal_venda|\n",
      "+-------------+------------------+-------------------+-----------+--------------+----------+--------------------+-------------+-----------+\n",
      "|      2711884|            350031|2023-12-26 00:00:00|  478225826|          5.99|    1.0000|03B9CB3A83D23AFB2112|          SIM|          L|\n",
      "|      2711884|            350031|2023-12-26 00:00:00|  403396526|          3.99|    1.0000|03B9CB3A83D23AFB2112|          SIM|          L|\n",
      "|      2711884|            350031|2023-12-26 00:00:00|  501265726|          5.59|    1.0000|03B9CB3A83D23AFB2112|          SIM|          L|\n",
      "|      2711884|            350031|2023-12-26 00:00:00|  403649896|         59.80|    2.0000|03B9CB3A83D23AFB2112|          NAO|          L|\n",
      "|      2711884|            350031|2023-12-26 00:00:00|  469517126|         20.49|    1.0000|03B9CB3A83D23AFB2112|          NAO|          L|\n",
      "+-------------+------------------+-------------------+-----------+--------------+----------+--------------------+-------------+-----------+\n",
      "only showing top 5 rows\n",
      "\n"
     ]
    },
    {
     "name": "stderr",
     "output_type": "stream",
     "text": [
      "                                                                                \r"
     ]
    }
   ],
   "source": [
    "df.show(5)"
   ]
  },
  {
   "cell_type": "code",
   "execution_count": 22,
   "id": "48bfe6a8",
   "metadata": {},
   "outputs": [
    {
     "name": "stderr",
     "output_type": "stream",
     "text": [
      "[Stage 20:=====================================================>  (23 + 1) / 24]\r"
     ]
    },
    {
     "name": "stdout",
     "output_type": "stream",
     "text": [
      "+-------------+------------------+------------+-----------+--------------+----------+--------------+-------------+-----------+\n",
      "|codigo_filial|codigo_cupom_venda|data_emissao|codigo_item|valor_unitario|quantidade|codigo_cliente|tipo_desconto|canal_venda|\n",
      "+-------------+------------------+------------+-----------+--------------+----------+--------------+-------------+-----------+\n",
      "|            0|                 0|           0|          0|             0|         0|             0|            0|       9505|\n",
      "+-------------+------------------+------------+-----------+--------------+----------+--------------+-------------+-----------+\n",
      "\n"
     ]
    },
    {
     "name": "stderr",
     "output_type": "stream",
     "text": [
      "                                                                                \r"
     ]
    }
   ],
   "source": [
    "df.select([\n",
    "    count(when(isnull(c), c)).alias(c) for c in df.columns\n",
    "]).show()"
   ]
  },
  {
   "cell_type": "code",
   "execution_count": 24,
   "id": "80eae272",
   "metadata": {},
   "outputs": [],
   "source": [
    "spark.stop()\n"
   ]
  }
 ],
 "metadata": {
  "kernelspec": {
   "display_name": "Python (etl-pipeline-aws)",
   "language": "python",
   "name": "etl-pipeline-aws"
  },
  "language_info": {
   "codemirror_mode": {
    "name": "ipython",
    "version": 3
   },
   "file_extension": ".py",
   "mimetype": "text/x-python",
   "name": "python",
   "nbconvert_exporter": "python",
   "pygments_lexer": "ipython3",
   "version": "3.10.17"
  }
 },
 "nbformat": 4,
 "nbformat_minor": 5
}
