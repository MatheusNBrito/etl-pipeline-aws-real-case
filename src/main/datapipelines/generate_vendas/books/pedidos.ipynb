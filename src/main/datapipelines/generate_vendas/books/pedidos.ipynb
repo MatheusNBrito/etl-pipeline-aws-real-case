{
 "cells": [
  {
   "cell_type": "code",
   "execution_count": 1,
   "id": "3f977796",
   "metadata": {},
   "outputs": [],
   "source": [
    "from pyspark.sql import SparkSession\n",
    "from pyspark.sql.functions import col, lit, when, isnull, lit, length, explode, count, upper, lower, regexp_replace, regexp_extract"
   ]
  },
  {
   "cell_type": "code",
   "execution_count": null,
   "id": "7c883a64",
   "metadata": {},
   "outputs": [],
   "source": [
    "from pyspark.sql import SparkSession\n",
    "# enableVectorizedReader is set to false to avoid issues with certain Parquet files\n",
    "spark = SparkSession.builder \\\n",
    "    .appName(\"Data quality check pedidos\") \\\n",
    "    .config(\"spark.sql.parquet.enableVectorizedReader\", \"false\") \\\n",
    "    .config(\"spark.hadoop.io.nativeio\", \"false\") \\\n",
    "    .getOrCreate()"
   ]
  },
  {
   "cell_type": "code",
   "execution_count": 3,
   "id": "44a98da6",
   "metadata": {},
   "outputs": [
    {
     "name": "stderr",
     "output_type": "stream",
     "text": [
      "                                                                                \r"
     ]
    }
   ],
   "source": [
    "df = spark.read.parquet(\"/app/data/raw/pedidos.parquet\")"
   ]
  },
  {
   "cell_type": "code",
   "execution_count": 4,
   "id": "0781954a",
   "metadata": {},
   "outputs": [
    {
     "name": "stdout",
     "output_type": "stream",
     "text": [
      "root\n",
      " |-- n_id_pdd: long (nullable = true)\n",
      " |-- d_dt_eft_pdd: date (nullable = true)\n",
      " |-- d_dt_entr_pdd: timestamp (nullable = true)\n",
      " |-- v_cnl_orig_pdd: string (nullable = true)\n",
      " |-- v_uf_entr_pdd: string (nullable = true)\n",
      " |-- v_lc_ent_pdd: string (nullable = true)\n",
      " |-- n_vlr_tot_pdd: decimal(38,2) (nullable = true)\n",
      "\n"
     ]
    }
   ],
   "source": [
    "df.printSchema()"
   ]
  },
  {
   "cell_type": "code",
   "execution_count": 5,
   "id": "491abb6d",
   "metadata": {},
   "outputs": [
    {
     "name": "stderr",
     "output_type": "stream",
     "text": [
      "                                                                                \r"
     ]
    },
    {
     "name": "stdout",
     "output_type": "stream",
     "text": [
      "+-------------+------------+-------------------+--------------+-------------+------------+-------------+\n",
      "|     n_id_pdd|d_dt_eft_pdd|      d_dt_entr_pdd|v_cnl_orig_pdd|v_uf_entr_pdd|v_lc_ent_pdd|n_vlr_tot_pdd|\n",
      "+-------------+------------+-------------------+--------------+-------------+------------+-------------+\n",
      "|1187021679777|  2023-09-13|2023-09-14 00:49:15|             L|           RS|      VIAMAO|        19.99|\n",
      "|1187888931657|  2023-09-29|2023-09-30 00:11:38|             L|           RS|PORTO ALEGRE|        36.98|\n",
      "|1187806295857|  2023-09-28|2023-09-29 00:00:10|             L|           RS|PORTO ALEGRE|        29.56|\n",
      "|1187490058337|  2023-09-22|2023-09-22 23:59:02|             L|           RS|PORTO ALEGRE|        37.97|\n",
      "|1186976289657|  2023-09-12|2023-09-13 00:40:09|             L|           RS|PORTO ALEGRE|        39.93|\n",
      "+-------------+------------+-------------------+--------------+-------------+------------+-------------+\n",
      "only showing top 5 rows\n",
      "\n"
     ]
    }
   ],
   "source": [
    "df.show(5)"
   ]
  },
  {
   "cell_type": "code",
   "execution_count": 6,
   "id": "04ef93f5",
   "metadata": {},
   "outputs": [
    {
     "name": "stderr",
     "output_type": "stream",
     "text": [
      "[Stage 4:=====================================================>   (17 + 1) / 18]\r"
     ]
    },
    {
     "name": "stdout",
     "output_type": "stream",
     "text": [
      "+--------+------------+-------------+--------------+-------------+------------+-------------+\n",
      "|n_id_pdd|d_dt_eft_pdd|d_dt_entr_pdd|v_cnl_orig_pdd|v_uf_entr_pdd|v_lc_ent_pdd|n_vlr_tot_pdd|\n",
      "+--------+------------+-------------+--------------+-------------+------------+-------------+\n",
      "|      61|        8139|         8139|             0|            0|           0|            0|\n",
      "+--------+------------+-------------+--------------+-------------+------------+-------------+\n",
      "\n"
     ]
    },
    {
     "name": "stderr",
     "output_type": "stream",
     "text": [
      "                                                                                \r"
     ]
    }
   ],
   "source": [
    "df.select([\n",
    "    count(when(isnull(c), c)).alias(c) for c in df.columns\n",
    "]).show()"
   ]
  },
  {
   "cell_type": "code",
   "execution_count": 7,
   "id": "152aa840",
   "metadata": {},
   "outputs": [],
   "source": [
    "spark.stop()"
   ]
  }
 ],
 "metadata": {
  "kernelspec": {
   "display_name": "Python (etl-pipeline-aws)",
   "language": "python",
   "name": "etl-pipeline-aws"
  }
 },
 "nbformat": 4,
 "nbformat_minor": 5
}
