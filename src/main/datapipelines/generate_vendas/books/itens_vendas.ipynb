{
 "cells": [
  {
   "cell_type": "code",
   "execution_count": 1,
   "id": "43ab3c68",
   "metadata": {},
   "outputs": [],
   "source": [
    "from pyspark.sql import SparkSession\n",
    "from pyspark.sql.functions import col, lit, when, isnull, lit, length, explode, count, upper, lower, regexp_replace, regexp_extract"
   ]
  },
  {
   "cell_type": "code",
   "execution_count": 2,
   "id": "55321a23",
   "metadata": {},
   "outputs": [
    {
     "name": "stderr",
     "output_type": "stream",
     "text": [
      "Setting default log level to \"WARN\".\n",
      "To adjust logging level use sc.setLogLevel(newLevel). For SparkR, use setLogLevel(newLevel).\n",
      "25/04/12 14:27:21 WARN NativeCodeLoader: Unable to load native-hadoop library for your platform... using builtin-java classes where applicable\n",
      "25/04/12 14:27:22 WARN Utils: Service 'SparkUI' could not bind on port 4040. Attempting port 4041.\n",
      "25/04/12 14:27:22 WARN Utils: Service 'SparkUI' could not bind on port 4041. Attempting port 4042.\n"
     ]
    }
   ],
   "source": [
    "from pyspark.sql import SparkSession\n",
    "# enableVectorizedReader is set to false to avoid issues with certain Parquet files\n",
    "spark = SparkSession.builder \\\n",
    "    .appName(\"Data quality check itens_vendas\") \\\n",
    "    .config(\"spark.sql.parquet.enableVectorizedReader\", \"false\") \\\n",
    "    .config(\"spark.hadoop.io.nativeio\", \"false\") \\\n",
    "    .getOrCreate()"
   ]
  },
  {
   "cell_type": "code",
   "execution_count": 3,
   "id": "36eac647",
   "metadata": {},
   "outputs": [
    {
     "name": "stderr",
     "output_type": "stream",
     "text": [
      "                                                                                \r"
     ]
    }
   ],
   "source": [
    "df = spark.read.parquet(\"/app/data/raw/itens_vendas.parquet\")"
   ]
  },
  {
   "cell_type": "code",
   "execution_count": 4,
   "id": "fad820ba",
   "metadata": {},
   "outputs": [
    {
     "name": "stdout",
     "output_type": "stream",
     "text": [
      "root\n",
      " |-- n_id_fil: long (nullable = true)\n",
      " |-- n_id_vd_fil: long (nullable = true)\n",
      " |-- n_id_it: long (nullable = true)\n",
      " |-- v_rc_elt: string (nullable = true)\n",
      " |-- v_it_vd_conv: string (nullable = true)\n",
      " |-- n_vlr_pis: decimal(38,2) (nullable = true)\n",
      " |-- n_vlr_vd: decimal(38,2) (nullable = true)\n",
      " |-- n_vlr_desc: decimal(38,2) (nullable = true)\n",
      " |-- n_qtd: decimal(38,4) (nullable = true)\n",
      "\n"
     ]
    }
   ],
   "source": [
    "df.printSchema()"
   ]
  },
  {
   "cell_type": "code",
   "execution_count": 5,
   "id": "b980429e",
   "metadata": {},
   "outputs": [
    {
     "name": "stderr",
     "output_type": "stream",
     "text": [
      "                                                                                \r"
     ]
    },
    {
     "name": "stdout",
     "output_type": "stream",
     "text": [
      "+--------+-----------+---------+--------+------------+---------+--------+----------+------+\n",
      "|n_id_fil|n_id_vd_fil|  n_id_it|v_rc_elt|v_it_vd_conv|n_vlr_pis|n_vlr_vd|n_vlr_desc| n_qtd|\n",
      "+--------+-----------+---------+--------+------------+---------+--------+----------+------+\n",
      "| 2326184| 4104333431|433914026|     NAO|         NAO|     0.00|   38.49|      8.50|1.0000|\n",
      "|  238084|37050030831|405284776|     NAO|         NAO|     0.14|    8.49|      0.00|1.0000|\n",
      "| 2439584| 4272478331|403805896|     NAO|         NAO|     0.00|   17.99|      0.00|1.0000|\n",
      "| 2618784| 3678370531|502317426|     NAO|         NAO|     0.00|    3.10|      0.00|1.0000|\n",
      "|  253484|37104903231|403469456|     NAO|         NAO|     0.00|   17.99|      8.00|1.0000|\n",
      "+--------+-----------+---------+--------+------------+---------+--------+----------+------+\n",
      "only showing top 5 rows\n",
      "\n"
     ]
    }
   ],
   "source": [
    "df.show(5)"
   ]
  },
  {
   "cell_type": "code",
   "execution_count": 6,
   "id": "7bfee93c",
   "metadata": {},
   "outputs": [
    {
     "name": "stderr",
     "output_type": "stream",
     "text": [
      "[Stage 4:======================================================>  (23 + 1) / 24]\r"
     ]
    },
    {
     "name": "stdout",
     "output_type": "stream",
     "text": [
      "+--------+-----------+-------+--------+------------+---------+--------+----------+-----+\n",
      "|n_id_fil|n_id_vd_fil|n_id_it|v_rc_elt|v_it_vd_conv|n_vlr_pis|n_vlr_vd|n_vlr_desc|n_qtd|\n",
      "+--------+-----------+-------+--------+------------+---------+--------+----------+-----+\n",
      "|       0|          0|      0|       0|           0|        0|       0|         0|    0|\n",
      "+--------+-----------+-------+--------+------------+---------+--------+----------+-----+\n",
      "\n"
     ]
    },
    {
     "name": "stderr",
     "output_type": "stream",
     "text": [
      "                                                                                \r"
     ]
    }
   ],
   "source": [
    "df.select([\n",
    "    count(when(isnull(c), c)).alias(c) for c in df.columns\n",
    "]).show()"
   ]
  },
  {
   "cell_type": "code",
   "execution_count": null,
   "id": "d1190ff1",
   "metadata": {},
   "outputs": [],
   "source": [
    "#spark.stop()"
   ]
  }
 ],
 "metadata": {
  "kernelspec": {
   "display_name": "Python (etl-pipeline-aws)",
   "language": "python",
   "name": "etl-pipeline-aws"
  },
  "language_info": {
   "codemirror_mode": {
    "name": "ipython",
    "version": 3
   },
   "file_extension": ".py",
   "mimetype": "text/x-python",
   "name": "python",
   "nbconvert_exporter": "python",
   "pygments_lexer": "ipython3",
   "version": "3.10.17"
  }
 },
 "nbformat": 4,
 "nbformat_minor": 5
}
