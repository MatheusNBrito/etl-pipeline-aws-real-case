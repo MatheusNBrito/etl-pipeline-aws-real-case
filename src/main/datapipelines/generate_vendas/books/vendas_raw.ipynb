{
 "cells": [
  {
   "cell_type": "code",
   "execution_count": 1,
   "id": "46793228",
   "metadata": {},
   "outputs": [],
   "source": [
    "from pyspark.sql import SparkSession\n",
    "from pyspark.sql.functions import col, lit, when, isnull, lit, length, explode, count, upper, lower, regexp_replace, regexp_extract"
   ]
  },
  {
   "cell_type": "code",
   "execution_count": 2,
   "id": "cb2e0c44",
   "metadata": {},
   "outputs": [
    {
     "name": "stderr",
     "output_type": "stream",
     "text": [
      "Setting default log level to \"WARN\".\n",
      "To adjust logging level use sc.setLogLevel(newLevel). For SparkR, use setLogLevel(newLevel).\n",
      "25/04/14 14:07:24 WARN NativeCodeLoader: Unable to load native-hadoop library for your platform... using builtin-java classes where applicable\n",
      "25/04/14 14:07:25 WARN Utils: Service 'SparkUI' could not bind on port 4040. Attempting port 4041.\n"
     ]
    }
   ],
   "source": [
    "from pyspark.sql import SparkSession\n",
    "# enableVectorizedReader is set to false to avoid issues with certain Parquet files\n",
    "spark = SparkSession.builder \\\n",
    "    .appName(\"Data quality check vendas\") \\\n",
    "    .config(\"spark.sql.parquet.enableVectorizedReader\", \"false\") \\\n",
    "    .config(\"spark.hadoop.io.nativeio\", \"false\") \\\n",
    "    .getOrCreate()"
   ]
  },
  {
   "cell_type": "code",
   "execution_count": 3,
   "id": "fa1826e0",
   "metadata": {},
   "outputs": [
    {
     "name": "stderr",
     "output_type": "stream",
     "text": [
      "                                                                                \r"
     ]
    }
   ],
   "source": [
    "df = spark.read.parquet(\"/app/data/raw/vendas.parquet\")"
   ]
  },
  {
   "cell_type": "code",
   "execution_count": 4,
   "id": "9224d94a",
   "metadata": {},
   "outputs": [
    {
     "name": "stdout",
     "output_type": "stream",
     "text": [
      "root\n",
      " |-- d_dt_vd: timestamp (nullable = true)\n",
      " |-- n_id_fil: long (nullable = true)\n",
      " |-- n_id_vd_fil: long (nullable = true)\n",
      " |-- v_cli_cod: string (nullable = true)\n",
      " |-- n_vlr_tot_vd: decimal(18,6) (nullable = true)\n",
      " |-- n_vlr_tot_desc: decimal(14,4) (nullable = true)\n",
      " |-- v_cpn_eml: string (nullable = true)\n",
      " |-- tp_pgt: string (nullable = true)\n",
      "\n"
     ]
    }
   ],
   "source": [
    "df.printSchema()"
   ]
  },
  {
   "cell_type": "code",
   "execution_count": 5,
   "id": "757d7b8e",
   "metadata": {},
   "outputs": [
    {
     "name": "stderr",
     "output_type": "stream",
     "text": [
      "                                                                                \r"
     ]
    },
    {
     "name": "stdout",
     "output_type": "stream",
     "text": [
      "+-------------------+--------+-----------+--------------------+------------+--------------+---------+-------+\n",
      "|            d_dt_vd|n_id_fil|n_id_vd_fil|           v_cli_cod|n_vlr_tot_vd|n_vlr_tot_desc|v_cpn_eml| tp_pgt|\n",
      "+-------------------+--------+-----------+--------------------+------------+--------------+---------+-------+\n",
      "|2023-10-13 00:00:00| 2356284|34366442231|016E6FCC4F98832719BC|   55.960000|       13.9900|      NAO|A VISTA|\n",
      "|2023-10-13 00:00:00| 2221184|35550863931|035D148EADC74B6C6D2F|   31.480000|       25.2100|      NAO|   NULL|\n",
      "|2023-10-28 00:00:00| 2188984|37392732531|030C1011214A3317E850|    6.490000|       13.1400|      NAO|A VISTA|\n",
      "|2023-10-09 00:00:00| 2608284| 3672652731|04710AFAF1FD9C48EBC3|   52.990000|       40.2700|      NAO|   NULL|\n",
      "|2023-10-10 00:00:00|  238084|37059405031|028DBA5BBB05DDF47E4C|   18.540000|        8.3800|      NAO|A VISTA|\n",
      "+-------------------+--------+-----------+--------------------+------------+--------------+---------+-------+\n",
      "only showing top 5 rows\n",
      "\n"
     ]
    }
   ],
   "source": [
    "df.show(5)"
   ]
  },
  {
   "cell_type": "code",
   "execution_count": 6,
   "id": "48bfe6a8",
   "metadata": {},
   "outputs": [
    {
     "name": "stderr",
     "output_type": "stream",
     "text": [
      "[Stage 4:=====================================================>   (17 + 1) / 18]\r"
     ]
    },
    {
     "name": "stdout",
     "output_type": "stream",
     "text": [
      "+-------+--------+-----------+---------+------------+--------------+---------+-------+\n",
      "|d_dt_vd|n_id_fil|n_id_vd_fil|v_cli_cod|n_vlr_tot_vd|n_vlr_tot_desc|v_cpn_eml| tp_pgt|\n",
      "+-------+--------+-----------+---------+------------+--------------+---------+-------+\n",
      "|      0|       0|          0|  5206154|           0|             0|        0|5268260|\n",
      "+-------+--------+-----------+---------+------------+--------------+---------+-------+\n",
      "\n"
     ]
    },
    {
     "name": "stderr",
     "output_type": "stream",
     "text": [
      "                                                                                \r"
     ]
    }
   ],
   "source": [
    "df.select([\n",
    "    count(when(isnull(c), c)).alias(c) for c in df.columns\n",
    "]).show()"
   ]
  },
  {
   "cell_type": "code",
   "execution_count": 9,
   "id": "8495b460",
   "metadata": {},
   "outputs": [
    {
     "name": "stderr",
     "output_type": "stream",
     "text": [
      "[Stage 10:===================================================>    (12 + 1) / 13]\r"
     ]
    },
    {
     "name": "stdout",
     "output_type": "stream",
     "text": [
      "+-------------------+--------+-------------+---------+------------+--------------+---------+-------+\n",
      "|            d_dt_vd|n_id_fil|  n_id_vd_fil|v_cli_cod|n_vlr_tot_vd|n_vlr_tot_desc|v_cpn_eml| tp_pgt|\n",
      "+-------------------+--------+-------------+---------+------------+--------------+---------+-------+\n",
      "|2023-08-06 00:00:00| 2189684|  37557459731|     NULL|   49.990000|        0.0000|      NAO|   NULL|\n",
      "|2023-08-21 00:00:00| 2593584|   4090431631|     NULL|   37.970000|       17.9000|      NAO|   NULL|\n",
      "|2023-08-15 00:00:00| 2388484|  36624197731|     NULL|   35.020000|        0.0000|      NAO|   NULL|\n",
      "|2023-08-04 00:00:00|  260484|  36544360831|     NULL|   18.600000|        0.0000|      NAO|   NULL|\n",
      "|2023-08-29 00:00:00| 2349284|  34160952331|     NULL|    9.990000|        7.9800|      NAO|   NULL|\n",
      "|2023-08-04 00:00:00|  269584|  35963337531|     NULL|   12.990000|        0.0000|      NAO|   NULL|\n",
      "|2023-08-13 00:00:00| 2209984|  36340815731|     NULL|   37.480000|        0.0000|      NAO|   NULL|\n",
      "|2023-08-22 00:00:00| 2644684|   3505019331|     NULL|   46.980000|       21.0000|      NAO|   NULL|\n",
      "|2023-08-04 00:00:00|  246484|  37761175331|     NULL|   23.980000|       12.6000|      NAO|   NULL|\n",
      "|2023-08-03 00:00:00| 2228884|  35918193531|     NULL|    9.980000|       12.4000|      NAO|   NULL|\n",
      "|2023-08-11 00:00:00| 2388484|  36621954831|     NULL|   34.480000|        0.0000|      NAO|   NULL|\n",
      "|2023-08-23 00:00:00| 2447284|  34184933431|     NULL|   16.490000|        0.0000|      NAO|   NULL|\n",
      "|2023-08-31 00:00:00|   26684|3464859110031|     NULL|   24.980000|        6.0000|      NAO|   NULL|\n",
      "|2023-08-17 00:00:00|  240884|  35633368331|     NULL|   69.950000|       21.6000|      NAO|   NULL|\n",
      "|2023-08-20 00:00:00| 2615984|   3577191431|     NULL|   33.680000|       45.3300|      NAO|A VISTA|\n",
      "|2023-08-06 00:00:00|  240184|  37274335131|     NULL|   15.990000|        0.0000|      NAO|   NULL|\n",
      "|2023-08-12 00:00:00|  270984|  36481565131|     NULL|   11.970000|       21.6000|      NAO|   NULL|\n",
      "|2023-08-22 00:00:00|   26684|3464856412831|     NULL|    5.670000|        1.3800|      NAO|   NULL|\n",
      "|2023-08-01 00:00:00| 2590784|  37677352031|     NULL|   41.890000|      211.9800|      NAO|   NULL|\n",
      "|2023-08-11 00:00:00|  279384|  35658100731|     NULL|  101.300000|       13.8000|      NAO|   NULL|\n",
      "+-------------------+--------+-------------+---------+------------+--------------+---------+-------+\n",
      "only showing top 20 rows\n",
      "\n"
     ]
    },
    {
     "name": "stderr",
     "output_type": "stream",
     "text": [
      "                                                                                \r"
     ]
    }
   ],
   "source": [
    "# Filtra as vendas onde 'v_cli_cod' é nulo\n",
    "df_vendas_null_v_cli = df.filter(df[\"v_cli_cod\"].isNull())\n",
    "\n",
    "# Exibe as primeiras linhas para análise\n",
    "df_vendas_null_v_cli.show()"
   ]
  },
  {
   "cell_type": "code",
   "execution_count": null,
   "id": "80eae272",
   "metadata": {},
   "outputs": [],
   "source": [
    "spark.stop()\n"
   ]
  }
 ],
 "metadata": {
  "kernelspec": {
   "display_name": "Python (etl-pipeline-aws)",
   "language": "python",
   "name": "etl-pipeline-aws"
  },
  "language_info": {
   "codemirror_mode": {
    "name": "ipython",
    "version": 3
   },
   "file_extension": ".py",
   "mimetype": "text/x-python",
   "name": "python",
   "nbconvert_exporter": "python",
   "pygments_lexer": "ipython3",
   "version": "3.10.17"
  }
 },
 "nbformat": 4,
 "nbformat_minor": 5
}
