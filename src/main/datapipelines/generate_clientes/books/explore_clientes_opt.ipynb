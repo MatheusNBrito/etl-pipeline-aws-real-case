{
 "cells": [
  {
   "cell_type": "code",
   "execution_count": 3,
   "id": "9ece0cf0",
   "metadata": {},
   "outputs": [],
   "source": [
    "from pyspark.sql import SparkSession\n",
    "from pyspark.sql.functions import col, lit, when, isnull, lit, length, explode, count, upper, lower, regexp_replace, regexp_extract"
   ]
  },
  {
   "cell_type": "code",
   "execution_count": 4,
   "id": "985954a6",
   "metadata": {},
   "outputs": [],
   "source": [
    "from pyspark.sql import SparkSession\n",
    "\n",
    "spark = SparkSession.builder \\\n",
    "    .appName(\"Data Quality Check clientes_opt\") \\\n",
    "    .getOrCreate()"
   ]
  },
  {
   "cell_type": "code",
   "execution_count": 5,
   "id": "3bc21738",
   "metadata": {},
   "outputs": [
    {
     "name": "stderr",
     "output_type": "stream",
     "text": [
      "                                                                                \r"
     ]
    }
   ],
   "source": [
    "df = spark.read.json(\"/app/data/raw/clientes_opt.json\")\n"
   ]
  },
  {
   "cell_type": "code",
   "execution_count": 6,
   "id": "2e637596",
   "metadata": {},
   "outputs": [
    {
     "name": "stdout",
     "output_type": "stream",
     "text": [
      "root\n",
      " |-- b_call: boolean (nullable = true)\n",
      " |-- b_email: boolean (nullable = true)\n",
      " |-- b_push: boolean (nullable = true)\n",
      " |-- b_sms: boolean (nullable = true)\n",
      " |-- v_id_cli: string (nullable = true)\n",
      "\n"
     ]
    }
   ],
   "source": [
    "df.printSchema()"
   ]
  },
  {
   "cell_type": "code",
   "execution_count": 7,
   "id": "f6a1c39b",
   "metadata": {},
   "outputs": [
    {
     "name": "stderr",
     "output_type": "stream",
     "text": [
      "                                                                                \r"
     ]
    },
    {
     "name": "stdout",
     "output_type": "stream",
     "text": [
      "+------+-------+------+-----+--------------------+\n",
      "|b_call|b_email|b_push|b_sms|v_id_cli            |\n",
      "+------+-------+------+-----+--------------------+\n",
      "|true  |true   |true  |true |010FC87179A2C7940661|\n",
      "|NULL  |true   |NULL  |true |04B2DB249A9623A2371B|\n",
      "|true  |true   |false |true |0248D7A8AA7D752A2AF9|\n",
      "|false |false  |false |false|02ABD1DDB59E705FCE49|\n",
      "|NULL  |true   |NULL  |NULL |050C08C7789F8BF18F10|\n",
      "+------+-------+------+-----+--------------------+\n",
      "only showing top 5 rows\n",
      "\n"
     ]
    }
   ],
   "source": [
    "df.show(5, truncate=False)"
   ]
  },
  {
   "cell_type": "code",
   "execution_count": 8,
   "id": "53080a8c",
   "metadata": {},
   "outputs": [
    {
     "data": {
      "text/plain": [
       "76623"
      ]
     },
     "execution_count": 8,
     "metadata": {},
     "output_type": "execute_result"
    }
   ],
   "source": [
    "df.count()"
   ]
  },
  {
   "cell_type": "code",
   "execution_count": 9,
   "id": "b97433ac",
   "metadata": {},
   "outputs": [
    {
     "data": {
      "text/plain": [
       "[('b_call', 'boolean'),\n",
       " ('b_email', 'boolean'),\n",
       " ('b_push', 'boolean'),\n",
       " ('b_sms', 'boolean'),\n",
       " ('v_id_cli', 'string')]"
      ]
     },
     "execution_count": 9,
     "metadata": {},
     "output_type": "execute_result"
    }
   ],
   "source": [
    "df.dtypes"
   ]
  },
  {
   "cell_type": "code",
   "execution_count": 10,
   "id": "a2e8608a",
   "metadata": {},
   "outputs": [
    {
     "name": "stdout",
     "output_type": "stream",
     "text": [
      "+------+-------+------+-----+--------+\n",
      "|b_call|b_email|b_push|b_sms|v_id_cli|\n",
      "+------+-------+------+-----+--------+\n",
      "| 43708|  18283| 41144|20099|       0|\n",
      "+------+-------+------+-----+--------+\n",
      "\n"
     ]
    }
   ],
   "source": [
    "df.select([\n",
    "    count(when(isnull(c), c)).alias(c) for c in df.columns\n",
    "]).show()"
   ]
  },
  {
   "cell_type": "code",
   "execution_count": 12,
   "id": "6849c1fa",
   "metadata": {},
   "outputs": [
    {
     "name": "stderr",
     "output_type": "stream",
     "text": [
      "                                                                                \r"
     ]
    },
    {
     "name": "stdout",
     "output_type": "stream",
     "text": [
      "+---+-----+\n",
      "|len|count|\n",
      "+---+-----+\n",
      "| 20|76623|\n",
      "+---+-----+\n",
      "\n"
     ]
    },
    {
     "name": "stderr",
     "output_type": "stream",
     "text": [
      "                                                                                \r"
     ]
    },
    {
     "data": {
      "text/plain": [
       "76623"
      ]
     },
     "execution_count": 12,
     "metadata": {},
     "output_type": "execute_result"
    }
   ],
   "source": [
    "# Ver o comprimento dos valores\n",
    "df.select(length(col(\"v_id_cli\")).alias(\"len\")).groupBy(\"len\").count().show()\n",
    "\n",
    "# Contar valores únicos\n",
    "df.select(\"v_id_cli\").distinct().count()"
   ]
  },
  {
   "cell_type": "code",
   "execution_count": 13,
   "id": "8d8ad4f3",
   "metadata": {},
   "outputs": [
    {
     "data": {
      "text/plain": [
       "0"
      ]
     },
     "execution_count": 13,
     "metadata": {},
     "output_type": "execute_result"
    }
   ],
   "source": [
    "import re\n",
    "\n",
    "# Exemplo para verificar se só tem caracteres hexadecimais (0-9, a-f)\n",
    "df.filter(~df.v_id_cli.rlike(\"^[a-fA-F0-9]{20}$\")).count()\n"
   ]
  },
  {
   "cell_type": "code",
   "execution_count": 14,
   "id": "9bc447fe",
   "metadata": {},
   "outputs": [
    {
     "name": "stdout",
     "output_type": "stream",
     "text": [
      "+--------------------+---------+----------+\n",
      "|            v_id_cli|tem_letra|tem_numero|\n",
      "+--------------------+---------+----------+\n",
      "|010FC87179A2C7940661|        F|         0|\n",
      "|04B2DB249A9623A2371B|        B|         0|\n",
      "|0248D7A8AA7D752A2AF9|        D|         0|\n",
      "|02ABD1DDB59E705FCE49|        A|         0|\n",
      "|050C08C7789F8BF18F10|        C|         0|\n",
      "|044D8241C0BA9EB8A2BD|        D|         0|\n",
      "|0236AE95865254140BEC|        A|         0|\n",
      "|04E8FC308B3A1CC4CC90|        E|         0|\n",
      "|027B23C4BD585D29DBA9|        B|         0|\n",
      "|016BC87B3EFE0230E53A|        B|         0|\n",
      "+--------------------+---------+----------+\n",
      "only showing top 10 rows\n",
      "\n"
     ]
    }
   ],
   "source": [
    "from pyspark.sql.functions import col, regexp_extract\n",
    "\n",
    "# Ver se tem letras, números, ambos\n",
    "df.select(\n",
    "    col(\"v_id_cli\"),\n",
    "    regexp_extract(\"v_id_cli\", \"[a-zA-Z]\", 0).alias(\"tem_letra\"),\n",
    "    regexp_extract(\"v_id_cli\", \"[0-9]\", 0).alias(\"tem_numero\")\n",
    ").show(10)\n"
   ]
  },
  {
   "cell_type": "code",
   "execution_count": null,
   "id": "d14b3039",
   "metadata": {},
   "outputs": [
    {
     "name": "stderr",
     "output_type": "stream",
     "text": [
      "                                                                                \r"
     ]
    }
   ],
   "source": [
    "#df.write.mode(\"overwrite\").option(\"header\", True).csv(\"/app/data/raw/clientes_opt.csv\")\n"
   ]
  },
  {
   "cell_type": "code",
   "execution_count": 15,
   "id": "89a2c30f",
   "metadata": {},
   "outputs": [],
   "source": [
    "spark.stop()\n"
   ]
  }
 ],
 "metadata": {
  "kernelspec": {
   "display_name": "Python (etl-pipeline-aws)",
   "language": "python",
   "name": "etl-pipeline-aws"
  },
  "language_info": {
   "codemirror_mode": {
    "name": "ipython",
    "version": 3
   },
   "file_extension": ".py",
   "mimetype": "text/x-python",
   "name": "python",
   "nbconvert_exporter": "python",
   "pygments_lexer": "ipython3",
   "version": "3.10.16"
  }
 },
 "nbformat": 4,
 "nbformat_minor": 5
}
