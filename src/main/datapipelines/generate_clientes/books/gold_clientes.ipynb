{
 "cells": [
  {
   "cell_type": "code",
   "execution_count": 13,
   "id": "93d10cb6",
   "metadata": {},
   "outputs": [],
   "source": [
    "from pyspark.sql import SparkSession\n",
    "from pyspark.sql.functions import col, lit, when, isnull, lit, length, explode, count, upper, lower, regexp_replace, regexp_extract"
   ]
  },
  {
   "cell_type": "code",
   "execution_count": 14,
   "id": "564fe37d",
   "metadata": {},
   "outputs": [
    {
     "name": "stderr",
     "output_type": "stream",
     "text": [
      "Setting default log level to \"WARN\".\n",
      "To adjust logging level use sc.setLogLevel(newLevel). For SparkR, use setLogLevel(newLevel).\n",
      "25/04/17 18:26:49 WARN NativeCodeLoader: Unable to load native-hadoop library for your platform... using builtin-java classes where applicable\n"
     ]
    }
   ],
   "source": [
    "from pyspark.sql import SparkSession\n",
    "\n",
    "spark = SparkSession.builder \\\n",
    "    .appName(\"Data Quality Check gold clientes\") \\\n",
    "    .config(\"spark.sql.parquet.enableVectorizedReader\", \"true\") \\\n",
    "    .config(\"spark.sql.legacy.parquet.datetimeRebaseModeInRead\", \"CORRECTED\") \\\n",
    "    .getOrCreate()"
   ]
  },
  {
   "cell_type": "code",
   "execution_count": 4,
   "id": "e395d477",
   "metadata": {},
   "outputs": [
    {
     "name": "stderr",
     "output_type": "stream",
     "text": [
      "                                                                                \r"
     ]
    }
   ],
   "source": [
    "df = spark.read.parquet(\"/app/data/gold/clientes\")"
   ]
  },
  {
   "cell_type": "code",
   "execution_count": 5,
   "id": "a25769b3",
   "metadata": {},
   "outputs": [
    {
     "name": "stdout",
     "output_type": "stream",
     "text": [
      "root\n",
      " |-- codigo_cliente: string (nullable = true)\n",
      " |-- data_nascimento: string (nullable = true)\n",
      " |-- idade: string (nullable = true)\n",
      " |-- sexo: string (nullable = true)\n",
      " |-- uf: string (nullable = true)\n",
      " |-- cidade: string (nullable = true)\n",
      " |-- estado_civil: string (nullable = true)\n",
      " |-- flag_lgpd_call: boolean (nullable = true)\n",
      " |-- flag_lgpd_sms: boolean (nullable = true)\n",
      " |-- flag_lgpd_email: boolean (nullable = true)\n",
      " |-- flag_lgpd_push: boolean (nullable = true)\n",
      "\n"
     ]
    }
   ],
   "source": [
    "df.printSchema()"
   ]
  },
  {
   "cell_type": "code",
   "execution_count": 16,
   "id": "7281d5d8",
   "metadata": {},
   "outputs": [
    {
     "name": "stdout",
     "output_type": "stream",
     "text": [
      "+--------------------+---------------+-----+----+---+------------+------------+--------------+-------------+---------------+--------------+\n",
      "|codigo_cliente      |data_nascimento|idade|sexo|uf |cidade      |estado_civil|flag_lgpd_call|flag_lgpd_sms|flag_lgpd_email|flag_lgpd_push|\n",
      "+--------------------+---------------+-----+----+---+------------+------------+--------------+-------------+---------------+--------------+\n",
      "|0000009DB36F622B7639|2003-11-14     |22   |F   |RS |PORTO ALEGRE|N/I         |false         |false        |false          |false         |\n",
      "|000000F51C15031D708E|2008-03-23     |17   |F   |SC |LAGES       |N/I         |false         |false        |false          |false         |\n",
      "|00000F54BE2BBF0E7B13|1986-02-24     |39   |F   |N/I|N/I         |N/I         |false         |false        |false          |false         |\n",
      "|000013E1FB44D9A9E50F|1984-12-13     |41   |M   |N/I|N/I         |N/I         |false         |true         |true           |false         |\n",
      "|00001522AD94645C7688|1992-11-10     |33   |F   |SC |SAO JOSE    |2           |true          |true         |true           |true          |\n",
      "+--------------------+---------------+-----+----+---+------------+------------+--------------+-------------+---------------+--------------+\n",
      "only showing top 5 rows\n",
      "\n"
     ]
    }
   ],
   "source": [
    "df.show(5, False)"
   ]
  },
  {
   "cell_type": "code",
   "execution_count": 17,
   "id": "c6466d4b",
   "metadata": {},
   "outputs": [
    {
     "name": "stdout",
     "output_type": "stream",
     "text": [
      "+--------------+---------------+-----+----+---+------+------------+--------------+-------------+---------------+--------------+\n",
      "|codigo_cliente|data_nascimento|idade|sexo| uf|cidade|estado_civil|flag_lgpd_call|flag_lgpd_sms|flag_lgpd_email|flag_lgpd_push|\n",
      "+--------------+---------------+-----+----+---+------+------------+--------------+-------------+---------------+--------------+\n",
      "|             0|              0|    0|   0|  0|     0|           0|             0|            0|              0|             0|\n",
      "+--------------+---------------+-----+----+---+------+------------+--------------+-------------+---------------+--------------+\n",
      "\n"
     ]
    }
   ],
   "source": [
    "# df.select([\n",
    "#     count(when(isnull(c), c)).alias(c) for c in df.columns\n",
    "# ]).show()"
   ]
  }
 ],
 "metadata": {
  "kernelspec": {
   "display_name": "Python (etl-pipeline-aws)",
   "language": "python",
   "name": "etl-pipeline-aws"
  },
  "language_info": {
   "codemirror_mode": {
    "name": "ipython",
    "version": 3
   },
   "file_extension": ".py",
   "mimetype": "text/x-python",
   "name": "python",
   "nbconvert_exporter": "python",
   "pygments_lexer": "ipython3",
   "version": "3.10.17"
  }
 },
 "nbformat": 4,
 "nbformat_minor": 5
}
