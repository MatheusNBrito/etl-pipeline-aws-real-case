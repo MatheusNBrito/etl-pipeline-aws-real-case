{
 "cells": [
  {
   "cell_type": "code",
   "execution_count": 13,
   "id": "93d10cb6",
   "metadata": {},
   "outputs": [],
   "source": [
    "from pyspark.sql import SparkSession\n",
    "from pyspark.sql.functions import col, lit, when, isnull, lit, length, explode, count, upper, lower, regexp_replace, regexp_extract"
   ]
  },
  {
   "cell_type": "code",
   "execution_count": 14,
   "id": "564fe37d",
   "metadata": {},
   "outputs": [],
   "source": [
    "from pyspark.sql import SparkSession\n",
    "\n",
    "spark = SparkSession.builder \\\n",
    "    .appName(\"Data Quality Check gold clientes\") \\\n",
    "    .config(\"spark.sql.parquet.enableVectorizedReader\", \"true\") \\\n",
    "    .config(\"spark.sql.legacy.parquet.datetimeRebaseModeInRead\", \"CORRECTED\") \\\n",
    "    .getOrCreate()"
   ]
  },
  {
   "cell_type": "code",
   "execution_count": 15,
   "id": "e395d477",
   "metadata": {},
   "outputs": [],
   "source": [
    "df = spark.read.parquet(\"/app/data/gold/clientes.parquet\")"
   ]
  },
  {
   "cell_type": "code",
   "execution_count": 16,
   "id": "7281d5d8",
   "metadata": {},
   "outputs": [
    {
     "name": "stdout",
     "output_type": "stream",
     "text": [
      "+--------------------+---------------+-----+----+---+------------+------------+--------------+-------------+---------------+--------------+\n",
      "|codigo_cliente      |data_nascimento|idade|sexo|uf |cidade      |estado_civil|flag_lgpd_call|flag_lgpd_sms|flag_lgpd_email|flag_lgpd_push|\n",
      "+--------------------+---------------+-----+----+---+------------+------------+--------------+-------------+---------------+--------------+\n",
      "|0000009DB36F622B7639|2003-11-14     |22   |F   |RS |PORTO ALEGRE|N/I         |false         |false        |false          |false         |\n",
      "|000000F51C15031D708E|2008-03-23     |17   |F   |SC |LAGES       |N/I         |false         |false        |false          |false         |\n",
      "|00000F54BE2BBF0E7B13|1986-02-24     |39   |F   |N/I|N/I         |N/I         |false         |false        |false          |false         |\n",
      "|000013E1FB44D9A9E50F|1984-12-13     |41   |M   |N/I|N/I         |N/I         |false         |true         |true           |false         |\n",
      "|00001522AD94645C7688|1992-11-10     |33   |F   |SC |SAO JOSE    |2           |true          |true         |true           |true          |\n",
      "+--------------------+---------------+-----+----+---+------------+------------+--------------+-------------+---------------+--------------+\n",
      "only showing top 5 rows\n",
      "\n"
     ]
    }
   ],
   "source": [
    "df.show(5, False)"
   ]
  },
  {
   "cell_type": "code",
   "execution_count": 17,
   "id": "c6466d4b",
   "metadata": {},
   "outputs": [
    {
     "name": "stdout",
     "output_type": "stream",
     "text": [
      "+--------------+---------------+-----+----+---+------+------------+--------------+-------------+---------------+--------------+\n",
      "|codigo_cliente|data_nascimento|idade|sexo| uf|cidade|estado_civil|flag_lgpd_call|flag_lgpd_sms|flag_lgpd_email|flag_lgpd_push|\n",
      "+--------------+---------------+-----+----+---+------+------------+--------------+-------------+---------------+--------------+\n",
      "|             0|              0|    0|   0|  0|     0|           0|             0|            0|              0|             0|\n",
      "+--------------+---------------+-----+----+---+------+------------+--------------+-------------+---------------+--------------+\n",
      "\n"
     ]
    }
   ],
   "source": [
    "df.select([\n",
    "    count(when(isnull(c), c)).alias(c) for c in df.columns\n",
    "]).show()"
   ]
  }
 ],
 "metadata": {
  "kernelspec": {
   "display_name": "Python (etl-pipeline-aws)",
   "language": "python",
   "name": "etl-pipeline-aws"
  },
  "language_info": {
   "codemirror_mode": {
    "name": "ipython",
    "version": 3
   },
   "file_extension": ".py",
   "mimetype": "text/x-python",
   "name": "python",
   "nbconvert_exporter": "python",
   "pygments_lexer": "ipython3",
   "version": "3.10.17"
  }
 },
 "nbformat": 4,
 "nbformat_minor": 5
}
