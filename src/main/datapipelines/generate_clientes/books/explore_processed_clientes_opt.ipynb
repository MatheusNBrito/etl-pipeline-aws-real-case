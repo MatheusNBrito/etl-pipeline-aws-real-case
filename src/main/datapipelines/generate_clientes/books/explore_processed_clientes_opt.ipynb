{
 "cells": [
  {
   "cell_type": "code",
   "execution_count": 10,
   "id": "93d10cb6",
   "metadata": {},
   "outputs": [],
   "source": [
    "from pyspark.sql import SparkSession\n",
    "from pyspark.sql.functions import col, lit, when, isnull, lit, length, explode, count, upper, lower, regexp_replace, regexp_extract"
   ]
  },
  {
   "cell_type": "code",
   "execution_count": 11,
   "id": "564fe37d",
   "metadata": {},
   "outputs": [],
   "source": [
    "from pyspark.sql import SparkSession\n",
    "\n",
    "spark = SparkSession.builder \\\n",
    "    .appName(\"Data Quality Check processed_clientes_opt\") \\\n",
    "    .config(\"spark.sql.parquet.enableVectorizedReader\", \"true\") \\\n",
    "    .config(\"spark.sql.legacy.parquet.datetimeRebaseModeInRead\", \"CORRECTED\") \\\n",
    "    .getOrCreate()"
   ]
  },
  {
   "cell_type": "code",
   "execution_count": 12,
   "id": "e395d477",
   "metadata": {},
   "outputs": [],
   "source": [
    "df = spark.read.parquet(\"/app/data/processed/clientes_opt.parquet\")"
   ]
  },
  {
   "cell_type": "code",
   "execution_count": 13,
   "id": "7281d5d8",
   "metadata": {},
   "outputs": [
    {
     "name": "stdout",
     "output_type": "stream",
     "text": [
      "+--------------------+--------------+-------------+---------------+--------------+\n",
      "|codigo_cliente      |flag_lgpd_push|flag_lgpd_sms|flag_lgpd_email|flag_lgpd_call|\n",
      "+--------------------+--------------+-------------+---------------+--------------+\n",
      "|010FC87179A2C7940661|true          |true         |true           |true          |\n",
      "|04B2DB249A9623A2371B|false         |true         |true           |false         |\n",
      "|0248D7A8AA7D752A2AF9|false         |true         |true           |true          |\n",
      "|02ABD1DDB59E705FCE49|false         |false        |false          |false         |\n",
      "|050C08C7789F8BF18F10|false         |false        |true           |false         |\n",
      "+--------------------+--------------+-------------+---------------+--------------+\n",
      "only showing top 5 rows\n",
      "\n"
     ]
    }
   ],
   "source": [
    "df.show(5, False)"
   ]
  },
  {
   "cell_type": "code",
   "execution_count": 14,
   "id": "c6466d4b",
   "metadata": {},
   "outputs": [
    {
     "name": "stdout",
     "output_type": "stream",
     "text": [
      "+--------------+--------------+-------------+---------------+--------------+\n",
      "|codigo_cliente|flag_lgpd_push|flag_lgpd_sms|flag_lgpd_email|flag_lgpd_call|\n",
      "+--------------+--------------+-------------+---------------+--------------+\n",
      "|             0|             0|            0|              0|             0|\n",
      "+--------------+--------------+-------------+---------------+--------------+\n",
      "\n"
     ]
    }
   ],
   "source": [
    "df.select([\n",
    "    count(when(isnull(c), c)).alias(c) for c in df.columns\n",
    "]).show()"
   ]
  }
 ],
 "metadata": {
  "kernelspec": {
   "display_name": "Python (etl-pipeline-aws)",
   "language": "python",
   "name": "etl-pipeline-aws"
  }
 },
 "nbformat": 4,
 "nbformat_minor": 5
}
