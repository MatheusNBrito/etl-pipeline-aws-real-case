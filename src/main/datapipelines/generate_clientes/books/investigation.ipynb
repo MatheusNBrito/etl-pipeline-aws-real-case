{
 "cells": [
  {
   "cell_type": "code",
   "execution_count": 5,
   "id": "e1d17fc1",
   "metadata": {},
   "outputs": [],
   "source": [
    "from pyspark.sql import SparkSession\n",
    "from pyspark.sql.functions import col, lit, when, isnull, lit, length, explode, count, upper, lower, regexp_replace, regexp_extract\n",
    "from datapipelines.generate_clientes.commons.constants import *\n"
   ]
  },
  {
   "cell_type": "code",
   "execution_count": null,
   "id": "13f05b55",
   "metadata": {},
   "outputs": [],
   "source": [
    "spark = SparkSession.builder \\\n",
    "    .appName(\"Data quality check enderecos_clientes \") \\\n",
    "    .config(\"spark.sql.parquet.enableVectorizedReader\", \"true\") \\\n",
    "    .config(\"spark.sql.legacy.parquet.datetimeRebaseModeInRead\", \"CORRECTED\") \\\n",
    "    .getOrCreate()"
   ]
  },
  {
   "cell_type": "code",
   "execution_count": 7,
   "id": "42c3efd6",
   "metadata": {},
   "outputs": [],
   "source": [
    "df_ender_cli = spark.read.parquet(\"/app/data/processed/enderecos_clientes.parquet\")\n",
    "df_cli = spark.read.parquet(\"/app/data/processed/clientes.parquet\")\n",
    "df_opt = spark.read.parquet(\"/app/data/processed/clientes_opt.parquet\")"
   ]
  },
  {
   "cell_type": "code",
   "execution_count": 10,
   "id": "d58034c9",
   "metadata": {},
   "outputs": [
    {
     "name": "stdout",
     "output_type": "stream",
     "text": [
      "+--------------------+---------------+----+------------+-----+\n",
      "|      codigo_cliente|data_nascimento|sexo|estado_civil|idade|\n",
      "+--------------------+---------------+----+------------+-----+\n",
      "|0000009DB36F622B7639|     2003-11-14|   F|         N/I|   22|\n",
      "|000000F51C15031D708E|     2008-03-23|   F|         N/I|   17|\n",
      "|00000F54BE2BBF0E7B13|     1986-02-24|   F|         N/I|   39|\n",
      "|00003490C16D52FEB4C2|     2004-03-20|   F|         N/I|   21|\n",
      "|00004A80EE1AE5324A9E|     1946-05-14| N/I|         N/I|   79|\n",
      "|00004CAACD07633F2C95|     1978-11-26|   F|         N/I|   47|\n",
      "|0000524920EA26B08218|     1999-09-14| N/I|         N/I|   26|\n",
      "|0000566AFF0326105805|           NULL| N/I|         N/I| NULL|\n",
      "|0000637A2669B1148663|     2003-01-24|   F|         N/I|   22|\n",
      "|000069F01AA0A98858F4|     1943-07-10|   F|         N/I|   82|\n",
      "|0000854EADF07158D702|     1959-09-05|   F|         N/I|   66|\n",
      "|00008CC4B7481043B5B9|     1986-01-12|   F|           1|   39|\n",
      "|0000A382CC46C42CB789|     2003-01-16| N/I|         N/I|   22|\n",
      "|0000B0191B3CCDB02AAD|     1975-08-11|   M|           2|   50|\n",
      "|0000C792E8E38C928329|     1997-08-20| N/I|         N/I|   28|\n",
      "|0000D146017DF43378B0|     2003-03-08|   F|         N/I|   22|\n",
      "|0000E4633657C8F17B5A|     1986-12-26|   F|           2|   39|\n",
      "|00010749FCBB69A40D61|     1974-07-27|   F|         N/I|   51|\n",
      "|00010EEA4D9B4A5B823B|     1957-10-18|   M|           2|   68|\n",
      "|000114552776E449EB1D|           NULL| N/I|         N/I| NULL|\n",
      "+--------------------+---------------+----+------------+-----+\n",
      "only showing top 20 rows\n",
      "\n",
      "Clientes sem OPT: 23396\n"
     ]
    }
   ],
   "source": [
    "df_cli.join(df_opt, on=CODIGO_CLIENTE, how=\"left_anti\").show()\n",
    "print(\"Clientes sem OPT:\", df_cli.join(df_opt, on=CODIGO_CLIENTE, how=\"left_anti\").count())\n"
   ]
  },
  {
   "cell_type": "code",
   "execution_count": 11,
   "id": "807b4dfe",
   "metadata": {},
   "outputs": [
    {
     "name": "stdout",
     "output_type": "stream",
     "text": [
      "+--------------------+---------------+----+------------+-----+\n",
      "|      codigo_cliente|data_nascimento|sexo|estado_civil|idade|\n",
      "+--------------------+---------------+----+------------+-----+\n",
      "|00000F54BE2BBF0E7B13|     1986-02-24|   F|         N/I|   39|\n",
      "|000013E1FB44D9A9E50F|     1984-12-13|   M|         N/I|   41|\n",
      "|00003490C16D52FEB4C2|     2004-03-20|   F|         N/I|   21|\n",
      "|000040FC122DB8AEEF51|     1982-04-06|   F|         N/I|   43|\n",
      "|00004A80EE1AE5324A9E|     1946-05-14| N/I|         N/I|   79|\n",
      "|00004CAACD07633F2C95|     1978-11-26|   F|         N/I|   47|\n",
      "|00005651B2086081178C|     1961-06-19|   F|         N/I|   64|\n",
      "|0000566AFF0326105805|           NULL| N/I|         N/I| NULL|\n",
      "|0000573B0F66ED64C324|           NULL| N/I|         N/I| NULL|\n",
      "|0000624AA6B5A0DF8CDB|     1992-09-03|   F|         N/I|   33|\n",
      "|0000637A2669B1148663|     2003-01-24|   F|         N/I|   22|\n",
      "|000069F01AA0A98858F4|     1943-07-10|   F|         N/I|   82|\n",
      "|0000854EADF07158D702|     1959-09-05|   F|         N/I|   66|\n",
      "|000088AD7F7E97CE0925|     1976-10-12|   F|         N/I|   49|\n",
      "|000091ED9712200259A9|     1987-02-18|   F|         N/I|   38|\n",
      "|0000957E5DFEA04C1260|     1982-11-25|   F|         N/I|   43|\n",
      "|00009842D0593B81100D|     1981-10-16| N/I|         N/I|   44|\n",
      "|0000C792E8E38C928329|     1997-08-20| N/I|         N/I|   28|\n",
      "|0000C92C7A4953A4506C|     1969-03-10|   M|         N/I|   56|\n",
      "|0000D067831C5ACEACDF|           NULL| N/I|         N/I| NULL|\n",
      "+--------------------+---------------+----+------------+-----+\n",
      "only showing top 20 rows\n",
      "\n",
      "Clientes sem ENDEREÇO: 40849\n"
     ]
    }
   ],
   "source": [
    "df_cli.join(df_ender_cli, on=CODIGO_CLIENTE, how=\"left_anti\").show()\n",
    "print(\"Clientes sem ENDEREÇO:\", df_cli.join(df_ender_cli, on=CODIGO_CLIENTE, how=\"left_anti\").count())\n",
    "\n"
   ]
  },
  {
   "cell_type": "code",
   "execution_count": 13,
   "id": "76561a0a",
   "metadata": {},
   "outputs": [
    {
     "name": "stdout",
     "output_type": "stream",
     "text": [
      "+--------------------+---------------+----+------------+-----+--------------+-------------+---------------+--------------+---+-------------+\n",
      "|      codigo_cliente|data_nascimento|sexo|estado_civil|idade|flag_lgpd_push|flag_lgpd_sms|flag_lgpd_email|flag_lgpd_call| uf|       cidade|\n",
      "+--------------------+---------------+----+------------+-----+--------------+-------------+---------------+--------------+---+-------------+\n",
      "|00001522AD94645C7688|     1992-11-10|   F|           2|   33|          true|         true|           true|          true| SC|     SAO JOSE|\n",
      "|00001522AD94645C7688|     1992-11-10|   F|           2|   33|          true|         true|           true|          true| SC|     SAO JOSE|\n",
      "|00001522AD94645C7688|     1992-11-10|   F|           2|   33|          true|         true|           true|          true| SC|FLORIANOPOLIS|\n",
      "|0000161185110EE1BBE5|     1975-12-27|   F|         N/I|   50|         false|         true|          false|         false| SP|    SAO PAULO|\n",
      "|0000269BBD1888477D56|     1961-10-25|   M|         N/I|   64|         false|        false|          false|         false| PR|    PARANAVAI|\n",
      "|0000269BBD1888477D56|     1961-10-25|   M|         N/I|   64|         false|        false|          false|         false| PR|    PARANAVAI|\n",
      "|0000289F7EF0375B679D|     1983-11-05|   F|           1|   42|          true|         true|           true|          true| RS|CAXIAS DO SUL|\n",
      "|00002A10FB7B5E5CB107|     1991-08-19|   M|         N/I|   34|         false|         true|          false|         false| RS|CAXIAS DO SUL|\n",
      "|00002F84FF8B063A952C|     1975-06-13|   F|         N/I|   50|         false|        false|          false|         false| SC|    JOINVILLE|\n",
      "|000033354ABAAD3F2FA8|     1964-01-01|   F|           1|   61|         false|        false|          false|         false| RS| PORTO ALEGRE|\n",
      "|000033354ABAAD3F2FA8|     1964-01-01|   F|           1|   61|         false|        false|          false|         false| RS| PORTO ALEGRE|\n",
      "|000042FA835BDA98ACCE|     1965-05-03|   M|           2|   60|         false|        false|          false|         false| RS|  PASSO FUNDO|\n",
      "|000042FA835BDA98ACCE|     1965-05-03|   M|           2|   60|         false|        false|          false|         false| RS|  PASSO FUNDO|\n",
      "|000042FA835BDA98ACCE|     1965-05-03|   M|           2|   60|         false|        false|          false|         false| RS|  PASSO FUNDO|\n",
      "|000042FA835BDA98ACCE|     1965-05-03|   M|           2|   60|         false|        false|          false|         false| RS|  PASSO FUNDO|\n",
      "|000046B0542EFC2E550A|     1990-06-02|   F|           1|   35|          true|         true|           true|         false| PR| PONTA GROSSA|\n",
      "|000046B0542EFC2E550A|     1990-06-02|   F|           1|   35|          true|         true|           true|         false| PR|     CURITIBA|\n",
      "|000046B0542EFC2E550A|     1990-06-02|   F|           1|   35|          true|         true|           true|         false| PR|     CURITIBA|\n",
      "|000046B0542EFC2E550A|     1990-06-02|   F|           1|   35|          true|         true|           true|         false| PR|       CASTRO|\n",
      "|00004B9802657262B995|     1996-03-06| N/I|         N/I|   29|         false|         true|           true|         false| SC|    ARARANGUA|\n",
      "+--------------------+---------------+----+------------+-----+--------------+-------------+---------------+--------------+---+-------------+\n",
      "only showing top 20 rows\n",
      "\n",
      "Total com correspondência nos 3 datasets: 146640\n"
     ]
    }
   ],
   "source": [
    "df_full_joined = df_cli \\\n",
    "    .join(df_opt, on=CODIGO_CLIENTE, how=\"inner\") \\\n",
    "    .join(df_ender_cli, on=CODIGO_CLIENTE, how=\"inner\")\n",
    "\n",
    "df_full_joined.show()\n",
    "print(\"Total com correspondência nos 3 datasets:\", df_full_joined.count())\n"
   ]
  },
  {
   "cell_type": "code",
   "execution_count": null,
   "id": "853ea36d",
   "metadata": {},
   "outputs": [
    {
     "name": "stdout",
     "output_type": "stream",
     "text": [
      "Total de clientes             : 99970\n",
      "Clientes com dados de opt-in  : 76623\n",
      "Clientes com endereço         : 59181\n"
     ]
    }
   ],
   "source": [
    "total_clientes = df_cli.select(CODIGO_CLIENTE).distinct().count()\n",
    "clientes_com_opt = df_opt.select(CODIGO_CLIENTE).distinct().count()\n",
    "clientes_com_endereco = df_ender_cli.select(CODIGO_CLIENTE).distinct().count()\n",
    "\n",
    "print(f\"Total de clientes             : {total_clientes}\")\n",
    "print(f\"Clientes com dados de opt-in  : {clientes_com_opt}\")\n",
    "print(f\"Clientes com endereço         : {clientes_com_endereco}\")\n"
   ]
  }
 ],
 "metadata": {
  "kernelspec": {
   "display_name": "Python (etl-pipeline-aws)",
   "language": "python",
   "name": "etl-pipeline-aws"
  },
  "language_info": {
   "codemirror_mode": {
    "name": "ipython",
    "version": 3
   },
   "file_extension": ".py",
   "mimetype": "text/x-python",
   "name": "python",
   "nbconvert_exporter": "python",
   "pygments_lexer": "ipython3",
   "version": "3.10.17"
  }
 },
 "nbformat": 4,
 "nbformat_minor": 5
}
