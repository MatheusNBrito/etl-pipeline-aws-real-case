{
 "cells": [
  {
   "cell_type": "code",
   "execution_count": 1,
   "id": "93d10cb6",
   "metadata": {},
   "outputs": [],
   "source": [
    "from pyspark.sql import SparkSession\n",
    "from pyspark.sql.functions import col, lit, when, isnull, lit, length, explode, count, upper, lower, regexp_replace, regexp_extract"
   ]
  },
  {
   "cell_type": "code",
   "execution_count": 2,
   "id": "564fe37d",
   "metadata": {},
   "outputs": [
    {
     "name": "stderr",
     "output_type": "stream",
     "text": [
      "Setting default log level to \"WARN\".\n",
      "To adjust logging level use sc.setLogLevel(newLevel). For SparkR, use setLogLevel(newLevel).\n",
      "25/04/11 11:53:45 WARN NativeCodeLoader: Unable to load native-hadoop library for your platform... using builtin-java classes where applicable\n",
      "25/04/11 11:53:46 WARN Utils: Service 'SparkUI' could not bind on port 4040. Attempting port 4041.\n"
     ]
    }
   ],
   "source": [
    "from pyspark.sql import SparkSession\n",
    "\n",
    "spark = SparkSession.builder \\\n",
    "    .appName(\"Data Quality Check processed_clientes\") \\\n",
    "    .config(\"spark.sql.parquet.enableVectorizedReader\", \"true\") \\\n",
    "    .config(\"spark.sql.legacy.parquet.datetimeRebaseModeInRead\", \"CORRECTED\") \\\n",
    "    .getOrCreate()"
   ]
  },
  {
   "cell_type": "code",
   "execution_count": 3,
   "id": "e395d477",
   "metadata": {},
   "outputs": [
    {
     "name": "stderr",
     "output_type": "stream",
     "text": [
      "25/04/11 11:53:47 WARN SQLConf: The SQL config 'spark.sql.legacy.parquet.datetimeRebaseModeInRead' has been deprecated in Spark v3.2 and may be removed in the future. Use 'spark.sql.parquet.datetimeRebaseModeInRead' instead.\n",
      "25/04/11 11:53:47 WARN SQLConf: The SQL config 'spark.sql.legacy.parquet.datetimeRebaseModeInRead' has been deprecated in Spark v3.2 and may be removed in the future. Use 'spark.sql.parquet.datetimeRebaseModeInRead' instead.\n",
      "25/04/11 11:53:47 WARN SQLConf: The SQL config 'spark.sql.legacy.parquet.datetimeRebaseModeInRead' has been deprecated in Spark v3.2 and may be removed in the future. Use 'spark.sql.parquet.datetimeRebaseModeInRead' instead.\n",
      "                                                                                \r"
     ]
    }
   ],
   "source": [
    "df = spark.read.parquet(\"/app/data/processed/clientes.parquet\")"
   ]
  },
  {
   "cell_type": "code",
   "execution_count": 4,
   "id": "7281d5d8",
   "metadata": {},
   "outputs": [
    {
     "name": "stderr",
     "output_type": "stream",
     "text": [
      "                                                                                \r"
     ]
    },
    {
     "name": "stdout",
     "output_type": "stream",
     "text": [
      "+--------------------+---------------+----+------------+-----+\n",
      "|codigo_cliente      |data_nascimento|sexo|estado_civil|idade|\n",
      "+--------------------+---------------+----+------------+-----+\n",
      "|0000009DB36F622B7639|2003-11-14     |F   |N/I         |22   |\n",
      "|000000F51C15031D708E|2008-03-23     |F   |N/I         |17   |\n",
      "|00000F54BE2BBF0E7B13|1986-02-24     |F   |N/I         |39   |\n",
      "|000013E1FB44D9A9E50F|1984-12-13     |M   |N/I         |41   |\n",
      "|00001522AD94645C7688|1992-11-10     |F   |2           |33   |\n",
      "+--------------------+---------------+----+------------+-----+\n",
      "only showing top 5 rows\n",
      "\n"
     ]
    }
   ],
   "source": [
    "df.show(5, False)"
   ]
  },
  {
   "cell_type": "code",
   "execution_count": 5,
   "id": "c6466d4b",
   "metadata": {},
   "outputs": [
    {
     "name": "stdout",
     "output_type": "stream",
     "text": [
      "+--------------+---------------+----+------------+-----+\n",
      "|codigo_cliente|data_nascimento|sexo|estado_civil|idade|\n",
      "+--------------+---------------+----+------------+-----+\n",
      "|             0|           4957|   0|           0| 4957|\n",
      "+--------------+---------------+----+------------+-----+\n",
      "\n"
     ]
    }
   ],
   "source": [
    "df.select([\n",
    "    count(when(isnull(c), c)).alias(c) for c in df.columns\n",
    "]).show()"
   ]
  },
  {
   "cell_type": "code",
   "execution_count": 6,
   "id": "9d392935",
   "metadata": {},
   "outputs": [],
   "source": [
    "spark.stop( )"
   ]
  }
 ],
 "metadata": {
  "kernelspec": {
   "display_name": "Python (etl-pipeline-aws)",
   "language": "python",
   "name": "etl-pipeline-aws"
  },
  "language_info": {
   "codemirror_mode": {
    "name": "ipython",
    "version": 3
   },
   "file_extension": ".py",
   "mimetype": "text/x-python",
   "name": "python",
   "nbconvert_exporter": "python",
   "pygments_lexer": "ipython3",
   "version": "3.10.17"
  }
 },
 "nbformat": 4,
 "nbformat_minor": 5
}
