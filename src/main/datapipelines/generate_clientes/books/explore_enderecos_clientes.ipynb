{
 "cells": [
  {
   "cell_type": "code",
   "execution_count": 1,
   "id": "0f2e8c6f",
   "metadata": {},
   "outputs": [],
   "source": [
    "from pyspark.sql import SparkSession\n",
    "from pyspark.sql.functions import col, lit, when, isnull, lit, length, explode, count, upper, lower, regexp_replace, regexp_extract"
   ]
  },
  {
   "cell_type": "code",
   "execution_count": 2,
   "id": "742d18c3",
   "metadata": {},
   "outputs": [
    {
     "name": "stderr",
     "output_type": "stream",
     "text": [
      "Setting default log level to \"WARN\".\n",
      "To adjust logging level use sc.setLogLevel(newLevel). For SparkR, use setLogLevel(newLevel).\n",
      "25/04/10 14:08:12 WARN NativeCodeLoader: Unable to load native-hadoop library for your platform... using builtin-java classes where applicable\n",
      "25/04/10 14:08:13 WARN Utils: Service 'SparkUI' could not bind on port 4040. Attempting port 4041.\n"
     ]
    }
   ],
   "source": [
    "from pyspark.sql import SparkSession\n",
    "\n",
    "spark = SparkSession.builder \\\n",
    "    .appName(\"Data quality check enderecos_clientes \") \\\n",
    "    .config(\"spark.sql.parquet.enableVectorizedReader\", \"true\") \\\n",
    "    .config(\"spark.sql.legacy.parquet.datetimeRebaseModeInRead\", \"CORRECTED\") \\\n",
    "    .getOrCreate()"
   ]
  },
  {
   "cell_type": "code",
   "execution_count": 3,
   "id": "f3ff6cc4",
   "metadata": {},
   "outputs": [
    {
     "name": "stderr",
     "output_type": "stream",
     "text": [
      "25/04/10 14:08:14 WARN SQLConf: The SQL config 'spark.sql.legacy.parquet.datetimeRebaseModeInRead' has been deprecated in Spark v3.2 and may be removed in the future. Use 'spark.sql.parquet.datetimeRebaseModeInRead' instead.\n",
      "25/04/10 14:08:14 WARN SQLConf: The SQL config 'spark.sql.legacy.parquet.datetimeRebaseModeInRead' has been deprecated in Spark v3.2 and may be removed in the future. Use 'spark.sql.parquet.datetimeRebaseModeInRead' instead.\n",
      "25/04/10 14:08:14 WARN SQLConf: The SQL config 'spark.sql.legacy.parquet.datetimeRebaseModeInRead' has been deprecated in Spark v3.2 and may be removed in the future. Use 'spark.sql.parquet.datetimeRebaseModeInRead' instead.\n",
      "                                                                                \r"
     ]
    }
   ],
   "source": [
    "df = spark.read.parquet(\"/app/data/raw/enderecos_clientes.parquet\")"
   ]
  },
  {
   "cell_type": "code",
   "execution_count": 4,
   "id": "e19070c5",
   "metadata": {},
   "outputs": [
    {
     "name": "stdout",
     "output_type": "stream",
     "text": [
      "root\n",
      " |-- v_id_cli: string (nullable = true)\n",
      " |-- n_sq_end: long (nullable = true)\n",
      " |-- d_dt_exc: string (nullable = true)\n",
      " |-- v_lcl: string (nullable = true)\n",
      " |-- v_uf: string (nullable = true)\n",
      "\n"
     ]
    },
    {
     "name": "stderr",
     "output_type": "stream",
     "text": [
      "                                                                                \r"
     ]
    },
    {
     "name": "stdout",
     "output_type": "stream",
     "text": [
      "+--------------------+--------+---------------------+-----------------+----+\n",
      "|v_id_cli            |n_sq_end|d_dt_exc             |v_lcl            |v_uf|\n",
      "+--------------------+--------+---------------------+-----------------+----+\n",
      "|00D3BFA61A4EB684B1F5|7470026 |NULL                 |CURITIBA         |PR  |\n",
      "|0313852B5434EC0A76D1|6772409 |NULL                 |LONDRINA         |PR  |\n",
      "|04194EF6A82A8F1C519C|6459025 |NULL                 |SANTA CRUZ DO SUL|RS  |\n",
      "|01AF764285A24153070B|5912571 |NULL                 |PORTO ALEGRE     |RS  |\n",
      "|04A52338FAB5D10204AD|1       |NULL                 |GRAVATAI         |RS  |\n",
      "|04D139F9FE86539E02F5|1       |NULL                 |CURITIBA         |PR  |\n",
      "|035A054182C4F2CFF563|1       |NULL                 |CURITIBA         |PR  |\n",
      "|0489FD8213030BE9A86B|4404117 |2023-03-17 10:42:23.0|PORTO ALEGRE     |RS  |\n",
      "|04808AA2CCD1D61D82CB|2614487 |NULL                 |PORTO ALEGRE     |RS  |\n",
      "|025636ACDAC688833A0D|1       |NULL                 |PALHOCA          |SC  |\n",
      "+--------------------+--------+---------------------+-----------------+----+\n",
      "only showing top 10 rows\n",
      "\n"
     ]
    }
   ],
   "source": [
    "df.printSchema()\n",
    "df.show(10, False)"
   ]
  },
  {
   "cell_type": "code",
   "execution_count": 4,
   "id": "744aeb47",
   "metadata": {},
   "outputs": [
    {
     "name": "stderr",
     "output_type": "stream",
     "text": [
      "                                                                                \r"
     ]
    },
    {
     "name": "stdout",
     "output_type": "stream",
     "text": [
      "+---+------+\n",
      "|len| count|\n",
      "+---+------+\n",
      "|  1| 40800|\n",
      "|  6|  5474|\n",
      "|  3|     6|\n",
      "|  5|   207|\n",
      "|  4|    18|\n",
      "|  7|107311|\n",
      "|  2|   112|\n",
      "+---+------+\n",
      "\n"
     ]
    },
    {
     "name": "stderr",
     "output_type": "stream",
     "text": [
      "                                                                                \r"
     ]
    },
    {
     "data": {
      "text/plain": [
       "112623"
      ]
     },
     "execution_count": 4,
     "metadata": {},
     "output_type": "execute_result"
    }
   ],
   "source": [
    "# Ver o comprimento dos valores\n",
    "df.select(length(col(\"n_sq_end\")).alias(\"len\")).groupBy(\"len\").count().show()\n",
    "\n",
    "# Contar valores únicos\n",
    "df.select(\"n_sq_end\").distinct().count()"
   ]
  },
  {
   "cell_type": "code",
   "execution_count": 8,
   "id": "9988403f",
   "metadata": {},
   "outputs": [
    {
     "name": "stdout",
     "output_type": "stream",
     "text": [
      "+--------+--------+--------+-----+----+\n",
      "|v_id_cli|n_sq_end|d_dt_exc|v_lcl|v_uf|\n",
      "+--------+--------+--------+-----+----+\n",
      "|       0|       0|  133819|    0|   0|\n",
      "+--------+--------+--------+-----+----+\n",
      "\n"
     ]
    }
   ],
   "source": [
    "df.select([\n",
    "    count(when(isnull(c), c)).alias(c) for c in df.columns\n",
    "]).show()"
   ]
  },
  {
   "cell_type": "code",
   "execution_count": 5,
   "id": "0b6457d5",
   "metadata": {},
   "outputs": [],
   "source": [
    "#spark.stop()\n"
   ]
  }
 ],
 "metadata": {
  "kernelspec": {
   "display_name": "Python (etl-pipeline-aws)",
   "language": "python",
   "name": "etl-pipeline-aws"
  },
  "language_info": {
   "codemirror_mode": {
    "name": "ipython",
    "version": 3
   },
   "file_extension": ".py",
   "mimetype": "text/x-python",
   "name": "python",
   "nbconvert_exporter": "python",
   "pygments_lexer": "ipython3",
   "version": "3.10.17"
  }
 },
 "nbformat": 4,
 "nbformat_minor": 5
}
