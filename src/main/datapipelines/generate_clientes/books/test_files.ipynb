{
 "cells": [
  {
   "cell_type": "code",
   "execution_count": 45,
   "id": "4cdd1c99",
   "metadata": {},
   "outputs": [
    {
     "name": "stderr",
     "output_type": "stream",
     "text": [
      "2652.23s - pydevd: Sending message related to process being replaced timed-out after 5 seconds\n"
     ]
    },
    {
     "name": "stdout",
     "output_type": "stream",
     "text": [
      "Collecting pyhocon\n",
      "  Downloading pyhocon-0.3.61-py3-none-any.whl (25 kB)\n",
      "Collecting pyparsing<4,>=2\n",
      "  Downloading pyparsing-3.2.3-py3-none-any.whl (111 kB)\n",
      "\u001b[2K     \u001b[90m━━━━━━━━━━━━━━━━━━━━━━━━━━━━━━━━━━━━━━━\u001b[0m \u001b[32m111.1/111.1 kB\u001b[0m \u001b[31m2.0 MB/s\u001b[0m eta \u001b[36m0:00:00\u001b[0ma \u001b[36m0:00:01\u001b[0m\n",
      "\u001b[?25hInstalling collected packages: pyparsing, pyhocon\n",
      "Successfully installed pyhocon-0.3.61 pyparsing-3.2.3\n",
      "\u001b[33mWARNING: Running pip as the 'root' user can result in broken permissions and conflicting behaviour with the system package manager. It is recommended to use a virtual environment instead: https://pip.pypa.io/warnings/venv\u001b[0m\u001b[33m\n",
      "\u001b[0m\n",
      "\u001b[1m[\u001b[0m\u001b[34;49mnotice\u001b[0m\u001b[1;39;49m]\u001b[0m\u001b[39;49m A new release of pip is available: \u001b[0m\u001b[31;49m23.0.1\u001b[0m\u001b[39;49m -> \u001b[0m\u001b[32;49m25.0.1\u001b[0m\n",
      "\u001b[1m[\u001b[0m\u001b[34;49mnotice\u001b[0m\u001b[1;39;49m]\u001b[0m\u001b[39;49m To update, run: \u001b[0m\u001b[32;49mpip install --upgrade pip\u001b[0m\n"
     ]
    }
   ],
   "source": [
    "!pip install pyhocon\n"
   ]
  },
  {
   "cell_type": "code",
   "execution_count": 47,
   "id": "19ca5fea",
   "metadata": {},
   "outputs": [
    {
     "name": "stderr",
     "output_type": "stream",
     "text": [
      "2768.26s - pydevd: Sending message related to process being replaced timed-out after 5 seconds\n"
     ]
    },
    {
     "name": "stdout",
     "output_type": "stream",
     "text": [
      "/app/src/main/datapipelines/generate_clientes/resources/application.conf\n"
     ]
    }
   ],
   "source": [
    "!find /app -name application.conf\n"
   ]
  },
  {
   "cell_type": "code",
   "execution_count": 61,
   "id": "e4a89835",
   "metadata": {},
   "outputs": [],
   "source": [
    "import sys\n",
    "sys.path.append(\"/app/src/main\")\n"
   ]
  },
  {
   "cell_type": "code",
   "execution_count": 62,
   "id": "5601f18b",
   "metadata": {},
   "outputs": [
    {
     "name": "stdout",
     "output_type": "stream",
     "text": [
      "CLIENTES_PATH: data/raw/clientes.parquet\n"
     ]
    }
   ],
   "source": [
    "from datapipelines.generate_clientes import config_loader\n",
    "\n",
    "config = config_loader.config\n",
    "\n",
    "# Teste real de leitura\n",
    "clientes_path = config[\"input_paths\"][\"raw_tables\"][\"CLIENTES_PATH\"]\n",
    "print(\"CLIENTES_PATH:\", clientes_path)\n"
   ]
  },
  {
   "cell_type": "code",
   "execution_count": 63,
   "id": "0ec688f1",
   "metadata": {},
   "outputs": [
    {
     "name": "stdout",
     "output_type": "stream",
     "text": [
      "data/raw/enderecos_clientes.parquet\n"
     ]
    }
   ],
   "source": [
    "from pyhocon import ConfigFactory\n",
    "\n",
    "config = ConfigFactory.parse_file(\n",
    "    \"/app/src/main/datapipelines/generate_clientes/resources/application.conf\"\n",
    ")\n",
    "\n",
    "print(config['input_paths']['raw_tables']['ENDERECOS_CLIENTES_PATH'])\n"
   ]
  }
 ],
 "metadata": {
  "kernelspec": {
   "display_name": "Python (etl-pipeline-aws)",
   "language": "python",
   "name": "etl-pipeline-aws"
  },
  "language_info": {
   "codemirror_mode": {
    "name": "ipython",
    "version": 3
   },
   "file_extension": ".py",
   "mimetype": "text/x-python",
   "name": "python",
   "nbconvert_exporter": "python",
   "pygments_lexer": "ipython3",
   "version": "3.10.16"
  }
 },
 "nbformat": 4,
 "nbformat_minor": 5
}
